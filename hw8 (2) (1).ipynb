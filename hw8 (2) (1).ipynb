{
 "cells": [
  {
   "cell_type": "markdown",
   "metadata": {},
   "source": [
    "\n",
    "# CIS024C - Spring 2018 - Monday 5:30-9:25pm \n",
    "\n",
    "## Homework 8\n",
    "\n",
    "Homework 8 covers exercises involving  external libraries, creating user defined libraries and working with command line arguments.\n",
    "\n",
    "The below sites have some interesting and useful information on these topics\n",
    "\n",
    "https://docs.python.org/2/library/index.html\n",
    "http://www.pythonforbeginners.com/argv/more-fun-with-sys-argv\n",
    "https://docs.python.org/2/library/argparse.html\n",
    "\n",
    "You will need to download this notebook and use this as a starting point for your homework. You will just need to fill in the content of each code-block (cell) and execute. Once you have completed all the exercises, you will need to save and upload this to your github repository under a folder called hw7.\n",
    "\n",
    "Note also the exercises build on top of one another so you might be able to do the next exercise if you have not completed the previous exercise.\n",
    "\n",
    "Post any questions you have on our Slack at **cis-024c1.slack.com**\n",
    "\n",
    "** Slides ** for Week 8 and Week 9 can be found at \n",
    "\n",
    "Week 8 - https://docs.google.com/presentation/d/1HcWIuVciM0_L935Umi5rPgQHJYIv1bNfYnErfOelbtw\n",
    "Week 9 - https://docs.google.com/presentation/d/15v1bLJ5ek5Z8mY3bZDOj67o4H3Ojhxuk-8ICI_FY6O4\n",
    "\n",
    "**Please refer back to hw1 and slack for instructions on how to setup your computer for developing using Python.**"
   ]
  },
  {
   "cell_type": "markdown",
   "metadata": {},
   "source": [
    "### Helpful Jupyter Commands\n",
    "\n",
    "Below are some useful commands to know when using Jupyter\n",
    "\n",
    "1. You can add a new cell by clicking on the \"+\" icon on top.\n",
    "2. You can delete a cell by selecting that cell and clicking on the \"scissors\" icon on top.\n",
    "3. You can execute a cell by either pressing shift+enter or selecting the \"play\" button on top.\n",
    "4. You can create a new file in Jupyter via the File menu->New Notebook option. Make sure to select Python 2 when creating your notebook.\n",
    "5. Also, for your code blocks make sure that Code is selected instead of another option like Markdown.\n",
    "6. Use the Enter key to go to the next line in a cell to enter the next statement.\n",
    "7. You can clear results by clicking on the Cell menu item and selecting Current Output->Clear or All Output->Clear depending on whether you are trying to just clear the output for one cell or for all cells.\n",
    "8. In case your program has crashed for some reason (infinite loop, for example), you can restart your Python session by select Kernel in the menu and selecting Restart.\n"
   ]
  },
  {
   "cell_type": "markdown",
   "metadata": {},
   "source": [
    "#### Check Python Version"
   ]
  },
  {
   "cell_type": "code",
   "execution_count": null,
   "metadata": {},
   "outputs": [],
   "source": [
    "!python --version"
   ]
  },
  {
   "cell_type": "markdown",
   "metadata": {},
   "source": [
    "#### Sample Exercises with Exception Handling\n",
    "\n",
    "Week 8 Class Work can be found here\n",
    "\n",
    "https://github.com/cis024c/fall2017classwork/tree/master/week8"
   ]
  },
  {
   "cell_type": "markdown",
   "metadata": {},
   "source": [
    "**Exercise 1 - Testing your knowledge of External Libraries **\n",
    "\n",
    "Answer the below questions\n",
    "\n",
    "1. Name two benefits of using external libraries.\n",
    "2. What are the different ways of including an external library in a Python program?"
   ]
  },
  {
   "cell_type": "raw",
   "metadata": {},
   "source": [
    "1. a) Time saving\n",
    "   b) Reduces complexity of a code \n",
    "\n",
    "2. a)pip install <package> and then use import <package>\n",
    "   b)conda install <package> and the use import <package>"
   ]
  },
  {
   "cell_type": "markdown",
   "metadata": {},
   "source": [
    "#### Exercise 2 -  Using the math library\n",
    "\n",
    "Import the math library in your program and do the following\n",
    "\n",
    "1. Request the user to enter a number between 1 and 10\n",
    "2. Compute the log (math.log) of the number\n",
    "3. Compute teh factorial (math.factorial) of the number\n",
    "4. Compute the square root (math.sqrt) of the number\n",
    "5. Compute the sine (math.sin) of the number\n",
    "\n",
    "Refer to https://docs.python.org/2/library/math.html for more information on the math library\n"
   ]
  },
  {
   "cell_type": "code",
   "execution_count": 1,
   "metadata": {},
   "outputs": [],
   "source": [
    "import math \n"
   ]
  },
  {
   "cell_type": "code",
   "execution_count": 3,
   "metadata": {},
   "outputs": [
    {
     "name": "stdout",
     "output_type": "stream",
     "text": [
      "Enter a number between 1 and 10 : 7\n",
      "1.9459101490553132\n",
      "5040\n",
      "2.6457513110645907\n",
      "0.6569865987187891\n"
     ]
    }
   ],
   "source": [
    "number = int(input(\"Enter a number between 1 and 10 : \"))\n",
    "log_number = math.log(number)\n",
    "print(log_number)\n",
    "fact_number = math.factorial(number)\n",
    "print(fact_number)\n",
    "sqrt_number = math.sqrt(number)\n",
    "print(sqrt_number)\n",
    "sin_number = math.sin(number)\n",
    "print(sin_number)\n"
   ]
  },
  {
   "cell_type": "markdown",
   "metadata": {},
   "source": [
    "#### Exercise 3 - Random numbers\n",
    "\n",
    "Generate a list of 10 random numbers between 1 and 100. Use random.sample function. Write a program to then sort the list of numbers in ascending order."
   ]
  },
  {
   "cell_type": "code",
   "execution_count": 8,
   "metadata": {},
   "outputs": [
    {
     "name": "stdout",
     "output_type": "stream",
     "text": [
      "[1, 2, 3, 4, 5, 6, 7, 8, 9, 10, 11, 12, 13, 14, 15, 16, 17, 18, 19, 20, 21, 22, 23, 24, 25, 26, 27, 28, 29, 30, 31, 32, 33, 34, 35, 36, 37, 38, 39, 40, 41, 42, 43, 44, 45, 46, 47, 48, 49, 50, 51, 52, 53, 54, 55, 56, 57, 58, 59, 60, 61, 62, 63, 64, 65, 66, 67, 68, 69, 70, 71, 72, 73, 74, 75, 76, 77, 78, 79, 80, 81, 82, 83, 84, 85, 86, 87, 88, 89, 90, 91, 92, 93, 94, 95, 96, 97, 98, 99, 100]\n",
      "[9, 92, 76, 75, 23, 96, 48, 60, 18, 4]\n",
      "[4, 9, 18, 23, 48, 60, 75, 76, 92, 96]\n"
     ]
    }
   ],
   "source": [
    "import random \n",
    "\n",
    "r = list(range(1,101))\n",
    "print(r)\n",
    "ran= random.sample(r, 10)\n",
    "print(ran)\n",
    "ranList = sorted(ran)\n",
    "print(ranList)"
   ]
  },
  {
   "cell_type": "markdown",
   "metadata": {},
   "source": [
    "#### Exercise 4 - Creating your own library\n",
    "\n",
    "Create a python module **helperfunctions.py** with the following functions.\n",
    "\n",
    "1. add - returns the sum of two numbers\n",
    "2. diff - returns the difference between two numbers\n",
    "3. product - returns the product of two numbers\n",
    "4. greatest - returns the greatest of two numbers.\n",
    "\n",
    "Import this module in your python program and use the functions your created on any two numbers and print the result.\n",
    "\n",
    "Note: Upload the **helperfunctions.py** module to your github folder along with the notebook file. You can also upload **helperfunctions.py** to Canvas if you are having trouble copying it to Github"
   ]
  },
  {
   "cell_type": "code",
   "execution_count": 14,
   "metadata": {},
   "outputs": [
    {
     "name": "stdout",
     "output_type": "stream",
     "text": [
      "Overwriting helperfunction.py\n"
     ]
    }
   ],
   "source": [
    "%%writefile helperfunction.py\n",
    "\n",
    "def add(num1,num2):\n",
    "    Sum = num1 + num2\n",
    "    return Sum\n",
    "\n",
    "def diff(num1,num2):\n",
    "    diff = num1 - num2\n",
    "    return diff\n",
    "\n",
    "def prod(num1,num2):\n",
    "    prod = num1*num2\n",
    "    return prod\n",
    "\n",
    "def great(num1,num2):\n",
    "    if num1 > num2:\n",
    "        return num1\n",
    "    else:\n",
    "        return num2\n",
    "    "
   ]
  },
  {
   "cell_type": "code",
   "execution_count": 15,
   "metadata": {},
   "outputs": [
    {
     "name": "stdout",
     "output_type": "stream",
     "text": [
      "3\n",
      "-1\n",
      "2\n",
      "2\n"
     ]
    }
   ],
   "source": [
    "import helperfunction\n",
    "\n",
    "a = helperfunction.add(1,2)\n",
    "print(a)\n",
    "\n",
    "b = helperfunction.diff(1,2)\n",
    "print(b)\n",
    "\n",
    "c = helperfunction.prod(1,2)\n",
    "print(c)\n",
    "\n",
    "d = helperfunction.great(1,2)\n",
    "print(d)\n"
   ]
  },
  {
   "cell_type": "markdown",
   "metadata": {},
   "source": [
    "#### Exercise 5 - Command Line programs with multiple modules\n",
    "\n",
    "Write a Python program to add two numbers. \n",
    "\n",
    "Your Python program must have a function called **add** that is placed in a separate module called **helper.py**. \n",
    "\n",
    "Your main program, which is also a standalone Python program **main.py** must import **helper.py** and use this module to add the two numbers. \n",
    "\n",
    "The numbers to be added must be passed via the command line. You could use either argv or argparse for accepting command line arguments.\n",
    "\n",
    "Here is an example of how your program would be invoked assuming the numbers to be added are 3 and 2\n",
    "\n",
    "**python main.py 3 2**\n"
   ]
  },
  {
   "cell_type": "code",
   "execution_count": 79,
   "metadata": {},
   "outputs": [
    {
     "name": "stdout",
     "output_type": "stream",
     "text": [
      "Overwriting helper.py\n"
     ]
    }
   ],
   "source": [
    "%%writefile helper.py\n",
    "\n",
    "def add(list1):\n",
    "    Sum = 0 \n",
    "    for item in list1:\n",
    "        Sum = Sum +int(item)\n",
    "    return Sum\n",
    "\n",
    "\n"
   ]
  },
  {
   "cell_type": "code",
   "execution_count": 80,
   "metadata": {},
   "outputs": [
    {
     "name": "stdout",
     "output_type": "stream",
     "text": [
      "Overwriting main.py\n"
     ]
    }
   ],
   "source": [
    "%%writefile main.py\n",
    "\n",
    "import helper\n",
    "\n",
    "import sys\n",
    "args = sys.argv\n",
    "\n",
    "print(helper.add((args[1:])))\n",
    "\n",
    "\n",
    "\n"
   ]
  },
  {
   "cell_type": "code",
   "execution_count": 81,
   "metadata": {},
   "outputs": [
    {
     "name": "stdout",
     "output_type": "stream",
     "text": [
      "5\n"
     ]
    }
   ],
   "source": [
    "\n",
    "!python main.py 3 2\n"
   ]
  },
  {
   "cell_type": "markdown",
   "metadata": {},
   "source": [
    "## OPTIONAL EXERCISES\n",
    "\n",
    "Below is a set of optional exercises. These will not be graded but the solutions will be posted. I would strongly encourage you to try these out if you are done with the mandatory homework exercises to improve your understanding of python."
   ]
  },
  {
   "cell_type": "markdown",
   "metadata": {},
   "source": [
    "#### Exercise 6\n",
    "\n",
    "Recall the similarity function to compute the edit distance in homework 7 and classwork 7. \n",
    "\n",
    "Create a Python module using the similarity function. Write a Python program to invoke the similarity function on any word entered by the user."
   ]
  },
  {
   "cell_type": "code",
   "execution_count": 95,
   "metadata": {},
   "outputs": [
    {
     "name": "stdout",
     "output_type": "stream",
     "text": [
      "1\n",
      "2\n"
     ]
    }
   ],
   "source": [
    "def edit_distance(str1, str2):\n",
    "\n",
    "\n",
    "    l_1=len(str1)\n",
    "\n",
    "    l_2=len(str2)\n",
    "\n",
    "    x =[[0]*(l_2+1) for _ in range(l_1+1)]\n",
    "\n",
    "    for i in range(0,l_1+1): \n",
    "\n",
    "        x[i][0]=i\n",
    "    for j in range(0,l_2+1):\n",
    "\n",
    "        x[0][j]=j\n",
    "    for i in range (1,l_1+1):\n",
    "\n",
    "        for j in range(1,l_2+1):\n",
    "\n",
    "            if str1[i-1]==str2[j-1]:\n",
    "                x[i][j] = x[i-1][j-1] \n",
    "\n",
    "            else :\n",
    "                x[i][j]= min(x[i][j-1],x[i-1][j],x[i-1][j-1])+1\n",
    "                \n",
    "    print (x[i][j])\n",
    "                \n",
    "edit_distance('pencil', 'encil')\n",
    "edit_distance('rain', 'ra')"
   ]
  },
  {
   "cell_type": "markdown",
   "metadata": {},
   "source": [
    "#### Exercise 7\n",
    "\n",
    "Write a Python program using the urrlib2 library to print all the URLs present on the website http://www.cnn.com\n",
    "\n",
    "Note that you will need to search for href tags in order to locate links. An easier option is to use an HTML parser module to parse the website and then you can query it for a set of links. \n",
    "\n"
   ]
  },
  {
   "cell_type": "code",
   "execution_count": 94,
   "metadata": {},
   "outputs": [
    {
     "name": "stdout",
     "output_type": "stream",
     "text": [
      "http://money.cnn.com\n",
      "http://money.cnn.com/technology\n",
      "http://bleacherreport.com\n",
      "http://cnn.it/go2\n",
      "http://money.cnn.com\n",
      "http://money.cnn.com/data/markets/\n",
      "http://money.cnn.com/technology/\n",
      "http://money.cnn.com/media/\n",
      "http://money.cnn.com/pf/\n",
      "http://money.cnn.com/luxury/\n",
      "http://money.cnn.com/media\n",
      "http://money.cnn.com/technology\n",
      "http://money.cnn.com/technology/business\n",
      "http://money.cnn.com/technology/culture\n",
      "http://money.cnn.com/technology/gadgets\n",
      "http://money.cnn.com/technology/future\n",
      "http://money.cnn.com/technology/startups\n",
      "http://bleacherreport.com\n",
      "http://bleacherreport.com/nfl\n",
      "http://bleacherreport.com/college-football\n",
      "http://bleacherreport.com/nba\n",
      "http://bleacherreport.com/mlb\n",
      "http://bleacherreport.com/world-football\n",
      "https://www.turnerjobs.com/search-jobs?orgIds=1174&ac=19299\n",
      "https://www.facebook.com/cnn\n",
      "https://twitter.com/cnn\n",
      "https://instagram.com/cnn\n",
      "http://money.cnn.com\n",
      "http://money.cnn.com/data/markets/\n",
      "http://money.cnn.com/technology/\n",
      "http://money.cnn.com/media/\n",
      "http://money.cnn.com/pf/\n",
      "http://money.cnn.com/luxury/\n",
      "http://money.cnn.com/media\n",
      "http://money.cnn.com/technology\n",
      "http://money.cnn.com/technology/business\n",
      "http://money.cnn.com/technology/culture\n",
      "http://money.cnn.com/technology/gadgets\n",
      "http://money.cnn.com/technology/future\n",
      "http://money.cnn.com/technology/startups\n",
      "http://bleacherreport.com\n",
      "http://bleacherreport.com/nfl\n",
      "http://bleacherreport.com/college-football\n",
      "http://bleacherreport.com/nba\n",
      "http://bleacherreport.com/mlb\n",
      "http://bleacherreport.com/world-football\n",
      "https://www.turnerjobs.com/search-jobs?orgIds=1174&ac=19299\n",
      "http://www.turner.com\n",
      "http://cnnnewsource.com\n"
     ]
    }
   ],
   "source": [
    "import urllib.request, urllib.parse, urllib.error\n",
    "\n",
    "from bs4 import BeautifulSoup\n",
    "\n",
    "url = ' http://www.cnn.com'\n",
    "html = urllib.request.urlopen(url).read()\n",
    "soup = BeautifulSoup(html,\"html.parser\")\n",
    "tags = soup('a')\n",
    "\n",
    "for tag in tags:\n",
    "    a= tag.get('href', None)\n",
    "    if a.startswith(\"http\"):\n",
    "        print(a)"
   ]
  },
  {
   "cell_type": "markdown",
   "metadata": {},
   "source": [
    "#### Exercise 8\n",
    "\n",
    "Write a Python program to use the Twitter library tweepy to retrieve a set of tweets from the internet.\n",
    "\n",
    "More information on how to do this can be found here\n",
    "\n",
    "http://docs.tweepy.org/en/v3.5.0/"
   ]
  },
  {
   "cell_type": "code",
   "execution_count": 7,
   "metadata": {},
   "outputs": [],
   "source": []
  },
  {
   "cell_type": "markdown",
   "metadata": {
    "collapsed": true
   },
   "source": [
    "#### Exercise 9 - Python program with multiple modules to sort a list of numbers\n",
    "\n",
    "Write a Python program to sort a list of numbers in ascending order. Your Python program must have a function called **sortNumbers** that is placed in a separate module called **sorthelper.py**. This function **sortNumbers** accepts a **list** of numbers. Your main program, which is also a standalone Python program **main.py** must import **sorthelper.py** and use this module to sort the numbers. \n",
    "\n",
    "The numbers to be sorted must be passed via the command line using argparse.\n",
    "\n",
    "Here is an example of how your program would be invoked assuming the numbers to be sorted are 5 4 3 and 8\n",
    "\n",
    "**python main.py 5 4 3 8**"
   ]
  },
  {
   "cell_type": "code",
   "execution_count": 96,
   "metadata": {},
   "outputs": [
    {
     "name": "stdout",
     "output_type": "stream",
     "text": [
      "Writing sorthelper.py\n"
     ]
    }
   ],
   "source": [
    "%%writefile sorthelper.py\n",
    "\n",
    "def sortNumbers(list2):\n",
    "    a= sorted(list2)\n",
    "    return a"
   ]
  },
  {
   "cell_type": "code",
   "execution_count": 97,
   "metadata": {},
   "outputs": [
    {
     "name": "stdout",
     "output_type": "stream",
     "text": [
      "Overwriting main.py\n"
     ]
    }
   ],
   "source": [
    "%%writefile main.py \n",
    "\n",
    "import sorthelper\n",
    "import sys\n",
    "args = sys.argv\n",
    "\n",
    "print(sorthelper.sortNumbers((args[1:])))\n",
    "\n"
   ]
  },
  {
   "cell_type": "code",
   "execution_count": 98,
   "metadata": {},
   "outputs": [
    {
     "name": "stdout",
     "output_type": "stream",
     "text": [
      "['2', '3', '7', '8', '9']\n"
     ]
    }
   ],
   "source": [
    "!python main.py 3 2 7 8 9"
   ]
  }
 ],
 "metadata": {
  "kernelspec": {
   "display_name": "Python 3",
   "language": "python",
   "name": "python3"
  },
  "language_info": {
   "codemirror_mode": {
    "name": "ipython",
    "version": 3
   },
   "file_extension": ".py",
   "mimetype": "text/x-python",
   "name": "python",
   "nbconvert_exporter": "python",
   "pygments_lexer": "ipython3",
   "version": "3.6.4"
  }
 },
 "nbformat": 4,
 "nbformat_minor": 2
}
